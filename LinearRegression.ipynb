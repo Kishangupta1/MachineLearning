{
  "nbformat": 4,
  "nbformat_minor": 0,
  "metadata": {
    "colab": {
      "provenance": [],
      "authorship_tag": "ABX9TyM9MmtlskeHj/S9Qv+VTMKQ",
      "include_colab_link": true
    },
    "kernelspec": {
      "name": "python3",
      "display_name": "Python 3"
    },
    "language_info": {
      "name": "python"
    }
  },
  "cells": [
    {
      "cell_type": "markdown",
      "metadata": {
        "id": "view-in-github",
        "colab_type": "text"
      },
      "source": [
        "<a href=\"https://colab.research.google.com/github/Kishangupta1/MachineLearning/blob/main/LinearRegression.ipynb\" target=\"_parent\"><img src=\"https://colab.research.google.com/assets/colab-badge.svg\" alt=\"Open In Colab\"/></a>"
      ]
    },
    {
      "cell_type": "code",
      "source": [
        "import numpy as np"
      ],
      "metadata": {
        "id": "kEPd0-tQY6m1"
      },
      "execution_count": 1,
      "outputs": []
    },
    {
      "cell_type": "code",
      "source": [
        "from sklearn.model_selection import train_test_split\n",
        "from sklearn import datasets"
      ],
      "metadata": {
        "id": "n90mThi-Y9zQ"
      },
      "execution_count": 10,
      "outputs": []
    },
    {
      "cell_type": "code",
      "execution_count": 20,
      "metadata": {
        "id": "f-YUg_cFU4nj"
      },
      "outputs": [],
      "source": [
        "from operator import xor\n",
        "class LinearRegression:\n",
        "  def __init__(self, lr, itr):\n",
        "    self.lr = lr\n",
        "    self.itr = itr\n",
        "    self.wt = None\n",
        "    self.bias = None\n",
        "\n",
        "  def fit(self, X, y):\n",
        "    n_sample, n_feat = X.shape\n",
        "    self.wt = np.zeros(n_feat)\n",
        "    self.bias = 0\n",
        "    for _ in range(self.itr):\n",
        "      y_pred = np.dot(X, self.wt) + self.bias\n",
        "\n",
        "      dw = (1/n_sample) * np.dot(X.T, (y - y_pred))\n",
        "      db = -(1/n_sample) * np.sum(y - y_pred)\n",
        "\n",
        "      #update w and b\n",
        "      self.wt = self.wt - self.lr * dw\n",
        "      self.bias = self.bias - self.lr * db\n",
        "\n",
        "  def prediction(self, X):\n",
        "    return np.dot(X, self.wt) + self.bias\n"
      ]
    },
    {
      "cell_type": "code",
      "source": [
        "X, y = datasets.make_regression(n_samples=100, n_features=10, random_state=4)\n",
        "X_train, X_test, y_train, y_test = train_test_split(X, y, test_size=0.2, random_state=4)\n",
        "reg = LinearRegression(lr=0.01, itr=10000)\n",
        "reg.fit(X_train,y_train)\n",
        "predictions = reg.prediction(X_test)\n",
        "\n",
        "def mse(y_test, predictions):\n",
        "    return np.mean((y_test-predictions)**2)\n",
        "\n",
        "mse = mse(y_test, predictions)\n",
        "print(mse)"
      ],
      "metadata": {
        "colab": {
          "base_uri": "https://localhost:8080/"
        },
        "id": "3MPPmMnPaLyW",
        "outputId": "d451d863-1b0d-4a5e-d813-833aae29a9a0"
      },
      "execution_count": 24,
      "outputs": [
        {
          "output_type": "stream",
          "name": "stdout",
          "text": [
            "1.7373657588430273e+136\n"
          ]
        }
      ]
    }
  ]
}